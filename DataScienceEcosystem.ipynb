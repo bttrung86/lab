{
 "cells": [
  {
   "cell_type": "markdown",
   "id": "5b086619-92c6-482e-b09d-9b659d5e33e0",
   "metadata": {},
   "source": [
    "# Data Science Tools and Ecosystem"
   ]
  },
  {
   "cell_type": "markdown",
   "id": "91d17407-5d6f-4f08-8f0b-726dcb180ea4",
   "metadata": {},
   "source": [
    "In this notebook, Data Science Tools and Ecosystem are summarized."
   ]
  },
  {
   "cell_type": "markdown",
   "id": "09e91cd5-5d3e-4213-af14-02a5263249af",
   "metadata": {},
   "source": [
    "Some of the popular languages that Data Scientists use are:\n",
    "1. Python\n",
    "2. R\n",
    "3. SQL\n",
    "4. C++"
   ]
  },
  {
   "cell_type": "markdown",
   "id": "c9aa0966-1507-4be9-92cb-1d4d8a41449b",
   "metadata": {},
   "source": [
    "Some of the commonly used libraries used by Data Scientists include:\n",
    "1. TensorFlow.\n",
    "2. Numpy.\n",
    "3. Scipy.\n",
    "4. Pandas."
   ]
  },
  {
   "cell_type": "markdown",
   "id": "bd5c2931-dac6-4c8e-958f-593474376f30",
   "metadata": {},
   "source": [
    "## Data Science Tools\n",
    "|Category\t        |Tool|\n",
    "|-------------------|----------------------|\n",
    "|Data Analysis\t|Pandas|\n",
    "|Visualization\t|Matplotlib|\n",
    "|Machine Learning\t|Scikit-learn|\n",
    "|Deep Learning\t|TensorFlow|\n",
    "|Big Data\t|Apache Spark|\n"
   ]
  },
  {
   "cell_type": "markdown",
   "id": "61db051f-8c42-4c3c-a07f-84b119ffed9c",
   "metadata": {},
   "source": [
    "### Below are a few examples of evaluating arithmetic expressions in Python"
   ]
  },
  {
   "cell_type": "code",
   "execution_count": 1,
   "id": "f8904a90-9846-41a2-bfdd-48730a143739",
   "metadata": {},
   "outputs": [
    {
     "data": {
      "text/plain": [
       "17"
      ]
     },
     "execution_count": 1,
     "metadata": {},
     "output_type": "execute_result"
    }
   ],
   "source": [
    "#This a simple arithmetic expression to mutiply then add integers\n",
    "(3*4)+5"
   ]
  },
  {
   "cell_type": "code",
   "execution_count": 2,
   "id": "10dc200d-aa67-44d9-9333-3994c9e7e3a0",
   "metadata": {},
   "outputs": [
    {
     "data": {
      "text/plain": [
       "3.3333333333333335"
      ]
     },
     "execution_count": 2,
     "metadata": {},
     "output_type": "execute_result"
    }
   ],
   "source": [
    "#This will convert 200 minutes to hours by diving by 60\n",
    "200/60"
   ]
  },
  {
   "cell_type": "markdown",
   "id": "1979f429-43e9-4469-81fc-4ae35ac7e438",
   "metadata": {},
   "source": [
    "**Objectives**\n",
    "* List popular languages for Data Science\n",
    "* Introduce commonly used libraries\n",
    "* Demonstrate arithmetic expressions in Python\n",
    "* Create tables in Markdown\n",
    "* Convert minutes to hours using Python code"
   ]
  },
  {
   "cell_type": "markdown",
   "id": "414e5853-537c-4896-bbb4-401a81864562",
   "metadata": {},
   "source": [
    "## Author\n",
    "Bui Thanh Trung"
   ]
  },
  {
   "cell_type": "code",
   "execution_count": null,
   "id": "00ae5062-f679-4e20-8653-a5145658681f",
   "metadata": {},
   "outputs": [],
   "source": []
  }
 ],
 "metadata": {
  "kernelspec": {
   "display_name": "Python 3 (ipykernel)",
   "language": "python",
   "name": "python3"
  },
  "language_info": {
   "codemirror_mode": {
    "name": "ipython",
    "version": 3
   },
   "file_extension": ".py",
   "mimetype": "text/x-python",
   "name": "python",
   "nbconvert_exporter": "python",
   "pygments_lexer": "ipython3",
   "version": "3.13.5"
  }
 },
 "nbformat": 4,
 "nbformat_minor": 5
}
